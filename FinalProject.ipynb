{
  "nbformat": 4,
  "nbformat_minor": 0,
  "metadata": {
    "colab": {
      "provenance": [],
      "mount_file_id": "1MfaP85fYnMfarpdCisfs7afu87gxXuq1",
      "authorship_tag": "ABX9TyMNbTc6rS8ekKP2R6rJPJId",
      "include_colab_link": true
    },
    "kernelspec": {
      "name": "python3",
      "display_name": "Python 3"
    },
    "language_info": {
      "name": "python"
    },
    "gpuClass": "standard"
  },
  "cells": [
    {
      "cell_type": "markdown",
      "metadata": {
        "id": "view-in-github",
        "colab_type": "text"
      },
      "source": [
        "<a href=\"https://colab.research.google.com/github/jmatt724/MachineLearningFinalProject/blob/main/FinalProject.ipynb\" target=\"_parent\"><img src=\"https://colab.research.google.com/assets/colab-badge.svg\" alt=\"Open In Colab\"/></a>"
      ]
    },
    {
      "cell_type": "code",
      "execution_count": null,
      "metadata": {
        "id": "rTICCKhJzETs"
      },
      "outputs": [],
      "source": [
        "import pandas as pd\n",
        "import seaborn as sns\n",
        "import numpy as np\n",
        "import matplotlib.pyplot as plt"
      ]
    },
    {
      "cell_type": "markdown",
      "source": [
        "# Car Insurance Dataset\n",
        "### https://www.kaggle.com/datasets/ifteshanajnin/carinsuranceclaimprediction-classification\n",
        "\n",
        "### Goal is to predict whether a policy holder will file a claim in the next six months"
      ],
      "metadata": {
        "id": "a12BxZd6Azwl"
      }
    },
    {
      "cell_type": "code",
      "source": [
        "dataset = pd.read_csv(\"/content/drive/MyDrive/Colab Notebooks/car_insurance.csv\")"
      ],
      "metadata": {
        "id": "JogF9Cz1zhUq"
      },
      "execution_count": null,
      "outputs": []
    },
    {
      "cell_type": "code",
      "source": [
        "dataset.head()"
      ],
      "metadata": {
        "id": "JZ_WhiAczo5L",
        "colab": {
          "base_uri": "https://localhost:8080/",
          "height": 299
        },
        "outputId": "368af770-91e4-43c0-ff87-108d715f7e4a"
      },
      "execution_count": null,
      "outputs": [
        {
          "output_type": "execute_result",
          "data": {
            "text/plain": [
              "  policy_id  policy_tenure  age_of_car  age_of_policyholder area_cluster  \\\n",
              "0   ID00001       0.515874        0.05             0.644231           C1   \n",
              "1   ID00002       0.672619        0.02             0.375000           C2   \n",
              "2   ID00003       0.841110        0.02             0.384615           C3   \n",
              "3   ID00004       0.900277        0.11             0.432692           C4   \n",
              "4   ID00005       0.596403        0.11             0.634615           C5   \n",
              "\n",
              "   population_density  make segment model fuel_type  ... is_brake_assist  \\\n",
              "0                4990     1       A    M1       CNG  ...              No   \n",
              "1               27003     1       A    M1       CNG  ...              No   \n",
              "2                4076     1       A    M1       CNG  ...              No   \n",
              "3               21622     1      C1    M2    Petrol  ...             Yes   \n",
              "4               34738     2       A    M3    Petrol  ...              No   \n",
              "\n",
              "  is_power_door_locks is_central_locking  is_power_steering  \\\n",
              "0                  No                 No                Yes   \n",
              "1                  No                 No                Yes   \n",
              "2                  No                 No                Yes   \n",
              "3                 Yes                Yes                Yes   \n",
              "4                 Yes                Yes                Yes   \n",
              "\n",
              "  is_driver_seat_height_adjustable is_day_night_rear_view_mirror is_ecw  \\\n",
              "0                               No                            No     No   \n",
              "1                               No                            No     No   \n",
              "2                               No                            No     No   \n",
              "3                              Yes                           Yes    Yes   \n",
              "4                               No                           Yes    Yes   \n",
              "\n",
              "  is_speed_alert ncap_rating is_claim  \n",
              "0            Yes           0        0  \n",
              "1            Yes           0        0  \n",
              "2            Yes           0        0  \n",
              "3            Yes           2        0  \n",
              "4            Yes           2        0  \n",
              "\n",
              "[5 rows x 44 columns]"
            ],
            "text/html": [
              "\n",
              "  <div id=\"df-d8eb8776-a8a4-4495-bc38-cc08e756f397\">\n",
              "    <div class=\"colab-df-container\">\n",
              "      <div>\n",
              "<style scoped>\n",
              "    .dataframe tbody tr th:only-of-type {\n",
              "        vertical-align: middle;\n",
              "    }\n",
              "\n",
              "    .dataframe tbody tr th {\n",
              "        vertical-align: top;\n",
              "    }\n",
              "\n",
              "    .dataframe thead th {\n",
              "        text-align: right;\n",
              "    }\n",
              "</style>\n",
              "<table border=\"1\" class=\"dataframe\">\n",
              "  <thead>\n",
              "    <tr style=\"text-align: right;\">\n",
              "      <th></th>\n",
              "      <th>policy_id</th>\n",
              "      <th>policy_tenure</th>\n",
              "      <th>age_of_car</th>\n",
              "      <th>age_of_policyholder</th>\n",
              "      <th>area_cluster</th>\n",
              "      <th>population_density</th>\n",
              "      <th>make</th>\n",
              "      <th>segment</th>\n",
              "      <th>model</th>\n",
              "      <th>fuel_type</th>\n",
              "      <th>...</th>\n",
              "      <th>is_brake_assist</th>\n",
              "      <th>is_power_door_locks</th>\n",
              "      <th>is_central_locking</th>\n",
              "      <th>is_power_steering</th>\n",
              "      <th>is_driver_seat_height_adjustable</th>\n",
              "      <th>is_day_night_rear_view_mirror</th>\n",
              "      <th>is_ecw</th>\n",
              "      <th>is_speed_alert</th>\n",
              "      <th>ncap_rating</th>\n",
              "      <th>is_claim</th>\n",
              "    </tr>\n",
              "  </thead>\n",
              "  <tbody>\n",
              "    <tr>\n",
              "      <th>0</th>\n",
              "      <td>ID00001</td>\n",
              "      <td>0.515874</td>\n",
              "      <td>0.05</td>\n",
              "      <td>0.644231</td>\n",
              "      <td>C1</td>\n",
              "      <td>4990</td>\n",
              "      <td>1</td>\n",
              "      <td>A</td>\n",
              "      <td>M1</td>\n",
              "      <td>CNG</td>\n",
              "      <td>...</td>\n",
              "      <td>No</td>\n",
              "      <td>No</td>\n",
              "      <td>No</td>\n",
              "      <td>Yes</td>\n",
              "      <td>No</td>\n",
              "      <td>No</td>\n",
              "      <td>No</td>\n",
              "      <td>Yes</td>\n",
              "      <td>0</td>\n",
              "      <td>0</td>\n",
              "    </tr>\n",
              "    <tr>\n",
              "      <th>1</th>\n",
              "      <td>ID00002</td>\n",
              "      <td>0.672619</td>\n",
              "      <td>0.02</td>\n",
              "      <td>0.375000</td>\n",
              "      <td>C2</td>\n",
              "      <td>27003</td>\n",
              "      <td>1</td>\n",
              "      <td>A</td>\n",
              "      <td>M1</td>\n",
              "      <td>CNG</td>\n",
              "      <td>...</td>\n",
              "      <td>No</td>\n",
              "      <td>No</td>\n",
              "      <td>No</td>\n",
              "      <td>Yes</td>\n",
              "      <td>No</td>\n",
              "      <td>No</td>\n",
              "      <td>No</td>\n",
              "      <td>Yes</td>\n",
              "      <td>0</td>\n",
              "      <td>0</td>\n",
              "    </tr>\n",
              "    <tr>\n",
              "      <th>2</th>\n",
              "      <td>ID00003</td>\n",
              "      <td>0.841110</td>\n",
              "      <td>0.02</td>\n",
              "      <td>0.384615</td>\n",
              "      <td>C3</td>\n",
              "      <td>4076</td>\n",
              "      <td>1</td>\n",
              "      <td>A</td>\n",
              "      <td>M1</td>\n",
              "      <td>CNG</td>\n",
              "      <td>...</td>\n",
              "      <td>No</td>\n",
              "      <td>No</td>\n",
              "      <td>No</td>\n",
              "      <td>Yes</td>\n",
              "      <td>No</td>\n",
              "      <td>No</td>\n",
              "      <td>No</td>\n",
              "      <td>Yes</td>\n",
              "      <td>0</td>\n",
              "      <td>0</td>\n",
              "    </tr>\n",
              "    <tr>\n",
              "      <th>3</th>\n",
              "      <td>ID00004</td>\n",
              "      <td>0.900277</td>\n",
              "      <td>0.11</td>\n",
              "      <td>0.432692</td>\n",
              "      <td>C4</td>\n",
              "      <td>21622</td>\n",
              "      <td>1</td>\n",
              "      <td>C1</td>\n",
              "      <td>M2</td>\n",
              "      <td>Petrol</td>\n",
              "      <td>...</td>\n",
              "      <td>Yes</td>\n",
              "      <td>Yes</td>\n",
              "      <td>Yes</td>\n",
              "      <td>Yes</td>\n",
              "      <td>Yes</td>\n",
              "      <td>Yes</td>\n",
              "      <td>Yes</td>\n",
              "      <td>Yes</td>\n",
              "      <td>2</td>\n",
              "      <td>0</td>\n",
              "    </tr>\n",
              "    <tr>\n",
              "      <th>4</th>\n",
              "      <td>ID00005</td>\n",
              "      <td>0.596403</td>\n",
              "      <td>0.11</td>\n",
              "      <td>0.634615</td>\n",
              "      <td>C5</td>\n",
              "      <td>34738</td>\n",
              "      <td>2</td>\n",
              "      <td>A</td>\n",
              "      <td>M3</td>\n",
              "      <td>Petrol</td>\n",
              "      <td>...</td>\n",
              "      <td>No</td>\n",
              "      <td>Yes</td>\n",
              "      <td>Yes</td>\n",
              "      <td>Yes</td>\n",
              "      <td>No</td>\n",
              "      <td>Yes</td>\n",
              "      <td>Yes</td>\n",
              "      <td>Yes</td>\n",
              "      <td>2</td>\n",
              "      <td>0</td>\n",
              "    </tr>\n",
              "  </tbody>\n",
              "</table>\n",
              "<p>5 rows × 44 columns</p>\n",
              "</div>\n",
              "      <button class=\"colab-df-convert\" onclick=\"convertToInteractive('df-d8eb8776-a8a4-4495-bc38-cc08e756f397')\"\n",
              "              title=\"Convert this dataframe to an interactive table.\"\n",
              "              style=\"display:none;\">\n",
              "        \n",
              "  <svg xmlns=\"http://www.w3.org/2000/svg\" height=\"24px\"viewBox=\"0 0 24 24\"\n",
              "       width=\"24px\">\n",
              "    <path d=\"M0 0h24v24H0V0z\" fill=\"none\"/>\n",
              "    <path d=\"M18.56 5.44l.94 2.06.94-2.06 2.06-.94-2.06-.94-.94-2.06-.94 2.06-2.06.94zm-11 1L8.5 8.5l.94-2.06 2.06-.94-2.06-.94L8.5 2.5l-.94 2.06-2.06.94zm10 10l.94 2.06.94-2.06 2.06-.94-2.06-.94-.94-2.06-.94 2.06-2.06.94z\"/><path d=\"M17.41 7.96l-1.37-1.37c-.4-.4-.92-.59-1.43-.59-.52 0-1.04.2-1.43.59L10.3 9.45l-7.72 7.72c-.78.78-.78 2.05 0 2.83L4 21.41c.39.39.9.59 1.41.59.51 0 1.02-.2 1.41-.59l7.78-7.78 2.81-2.81c.8-.78.8-2.07 0-2.86zM5.41 20L4 18.59l7.72-7.72 1.47 1.35L5.41 20z\"/>\n",
              "  </svg>\n",
              "      </button>\n",
              "      \n",
              "  <style>\n",
              "    .colab-df-container {\n",
              "      display:flex;\n",
              "      flex-wrap:wrap;\n",
              "      gap: 12px;\n",
              "    }\n",
              "\n",
              "    .colab-df-convert {\n",
              "      background-color: #E8F0FE;\n",
              "      border: none;\n",
              "      border-radius: 50%;\n",
              "      cursor: pointer;\n",
              "      display: none;\n",
              "      fill: #1967D2;\n",
              "      height: 32px;\n",
              "      padding: 0 0 0 0;\n",
              "      width: 32px;\n",
              "    }\n",
              "\n",
              "    .colab-df-convert:hover {\n",
              "      background-color: #E2EBFA;\n",
              "      box-shadow: 0px 1px 2px rgba(60, 64, 67, 0.3), 0px 1px 3px 1px rgba(60, 64, 67, 0.15);\n",
              "      fill: #174EA6;\n",
              "    }\n",
              "\n",
              "    [theme=dark] .colab-df-convert {\n",
              "      background-color: #3B4455;\n",
              "      fill: #D2E3FC;\n",
              "    }\n",
              "\n",
              "    [theme=dark] .colab-df-convert:hover {\n",
              "      background-color: #434B5C;\n",
              "      box-shadow: 0px 1px 3px 1px rgba(0, 0, 0, 0.15);\n",
              "      filter: drop-shadow(0px 1px 2px rgba(0, 0, 0, 0.3));\n",
              "      fill: #FFFFFF;\n",
              "    }\n",
              "  </style>\n",
              "\n",
              "      <script>\n",
              "        const buttonEl =\n",
              "          document.querySelector('#df-d8eb8776-a8a4-4495-bc38-cc08e756f397 button.colab-df-convert');\n",
              "        buttonEl.style.display =\n",
              "          google.colab.kernel.accessAllowed ? 'block' : 'none';\n",
              "\n",
              "        async function convertToInteractive(key) {\n",
              "          const element = document.querySelector('#df-d8eb8776-a8a4-4495-bc38-cc08e756f397');\n",
              "          const dataTable =\n",
              "            await google.colab.kernel.invokeFunction('convertToInteractive',\n",
              "                                                     [key], {});\n",
              "          if (!dataTable) return;\n",
              "\n",
              "          const docLinkHtml = 'Like what you see? Visit the ' +\n",
              "            '<a target=\"_blank\" href=https://colab.research.google.com/notebooks/data_table.ipynb>data table notebook</a>'\n",
              "            + ' to learn more about interactive tables.';\n",
              "          element.innerHTML = '';\n",
              "          dataTable['output_type'] = 'display_data';\n",
              "          await google.colab.output.renderOutput(dataTable, element);\n",
              "          const docLink = document.createElement('div');\n",
              "          docLink.innerHTML = docLinkHtml;\n",
              "          element.appendChild(docLink);\n",
              "        }\n",
              "      </script>\n",
              "    </div>\n",
              "  </div>\n",
              "  "
            ]
          },
          "metadata": {},
          "execution_count": 3
        }
      ]
    },
    {
      "cell_type": "code",
      "source": [
        "dataset.columns"
      ],
      "metadata": {
        "id": "5O_rwdj7z5Rz",
        "colab": {
          "base_uri": "https://localhost:8080/"
        },
        "outputId": "5c31137b-218e-4be5-dfd2-dfec0f7dd7b8"
      },
      "execution_count": null,
      "outputs": [
        {
          "output_type": "execute_result",
          "data": {
            "text/plain": [
              "Index(['policy_id', 'policy_tenure', 'age_of_car', 'age_of_policyholder',\n",
              "       'area_cluster', 'population_density', 'make', 'segment', 'model',\n",
              "       'fuel_type', 'max_torque', 'max_power', 'engine_type', 'airbags',\n",
              "       'is_esc', 'is_adjustable_steering', 'is_tpms', 'is_parking_sensors',\n",
              "       'is_parking_camera', 'rear_brakes_type', 'displacement', 'cylinder',\n",
              "       'transmission_type', 'gear_box', 'steering_type', 'turning_radius',\n",
              "       'length', 'width', 'height', 'gross_weight', 'is_front_fog_lights',\n",
              "       'is_rear_window_wiper', 'is_rear_window_washer',\n",
              "       'is_rear_window_defogger', 'is_brake_assist', 'is_power_door_locks',\n",
              "       'is_central_locking', 'is_power_steering',\n",
              "       'is_driver_seat_height_adjustable', 'is_day_night_rear_view_mirror',\n",
              "       'is_ecw', 'is_speed_alert', 'ncap_rating', 'is_claim'],\n",
              "      dtype='object')"
            ]
          },
          "metadata": {},
          "execution_count": 4
        }
      ]
    },
    {
      "cell_type": "code",
      "source": [
        "dataset.dtypes"
      ],
      "metadata": {
        "id": "kbH82b9E44wf",
        "colab": {
          "base_uri": "https://localhost:8080/"
        },
        "outputId": "583ca613-c146-41a6-9ebc-de64bc199708"
      },
      "execution_count": null,
      "outputs": [
        {
          "output_type": "execute_result",
          "data": {
            "text/plain": [
              "policy_id                            object\n",
              "policy_tenure                       float64\n",
              "age_of_car                          float64\n",
              "age_of_policyholder                 float64\n",
              "area_cluster                         object\n",
              "population_density                    int64\n",
              "make                                  int64\n",
              "segment                              object\n",
              "model                                object\n",
              "fuel_type                            object\n",
              "max_torque                           object\n",
              "max_power                            object\n",
              "engine_type                          object\n",
              "airbags                               int64\n",
              "is_esc                               object\n",
              "is_adjustable_steering               object\n",
              "is_tpms                              object\n",
              "is_parking_sensors                   object\n",
              "is_parking_camera                    object\n",
              "rear_brakes_type                     object\n",
              "displacement                          int64\n",
              "cylinder                              int64\n",
              "transmission_type                    object\n",
              "gear_box                              int64\n",
              "steering_type                        object\n",
              "turning_radius                      float64\n",
              "length                                int64\n",
              "width                                 int64\n",
              "height                                int64\n",
              "gross_weight                          int64\n",
              "is_front_fog_lights                  object\n",
              "is_rear_window_wiper                 object\n",
              "is_rear_window_washer                object\n",
              "is_rear_window_defogger              object\n",
              "is_brake_assist                      object\n",
              "is_power_door_locks                  object\n",
              "is_central_locking                   object\n",
              "is_power_steering                    object\n",
              "is_driver_seat_height_adjustable     object\n",
              "is_day_night_rear_view_mirror        object\n",
              "is_ecw                               object\n",
              "is_speed_alert                       object\n",
              "ncap_rating                           int64\n",
              "is_claim                              int64\n",
              "dtype: object"
            ]
          },
          "metadata": {},
          "execution_count": 5
        }
      ]
    },
    {
      "cell_type": "code",
      "source": [
        "dataset = dataset.drop([\"policy_id\",\"max_torque\", \"max_power\", \"engine_type\"], axis = 1)"
      ],
      "metadata": {
        "id": "DN5OcYG1CN9Y"
      },
      "execution_count": null,
      "outputs": []
    },
    {
      "cell_type": "markdown",
      "source": [
        "## Encode and get dummies for categorical variables"
      ],
      "metadata": {
        "id": "xPwXvkiS3Nxs"
      }
    },
    {
      "cell_type": "code",
      "source": [
        "from sklearn.preprocessing import LabelEncoder\n",
        "\n",
        "le = LabelEncoder()\n",
        "dataset['area_cluster'] = le.fit_transform(dataset['area_cluster'])\n",
        "dataset['segment'] = le.fit_transform(dataset['segment'])\n",
        "dataset['model'] = le.fit_transform(dataset['model'])\n",
        "dataset['fuel_type'] = le.fit_transform(dataset['fuel_type'])\n",
        "dataset['is_esc'] = le.fit_transform(dataset['is_esc'])\n",
        "dataset['is_adjustable_steering'] = le.fit_transform(dataset['is_adjustable_steering'])\n",
        "dataset['is_tpms'] = le.fit_transform(dataset['is_tpms'])\n",
        "dataset['is_parking_camera'] = le.fit_transform(dataset['is_parking_camera'])\n",
        "dataset['is_parking_sensors'] = le.fit_transform(dataset['is_parking_sensors'])\n",
        "dataset['rear_brakes_type'] = le.fit_transform(dataset['rear_brakes_type'])\n",
        "dataset['transmission_type'] = le.fit_transform(dataset['transmission_type'])\n",
        "dataset['steering_type'] = le.fit_transform(dataset['steering_type'])"
      ],
      "metadata": {
        "id": "e7Si_QeiCtoc"
      },
      "execution_count": null,
      "outputs": []
    },
    {
      "cell_type": "code",
      "source": [
        "dummy_cols = []\n",
        "for col in dataset.columns:\n",
        "  if(dataset[col].dtype == np.object_):\n",
        "    dummy_cols.append(col)\n",
        "dataset = pd.get_dummies(dataset, columns=dummy_cols, drop_first = True)"
      ],
      "metadata": {
        "id": "NeOLyIX0GRvA"
      },
      "execution_count": null,
      "outputs": []
    },
    {
      "cell_type": "code",
      "source": [
        "X = dataset.drop(\"is_claim\", axis = 1)\n",
        "y = dataset[\"is_claim\"]"
      ],
      "metadata": {
        "id": "9sZSQmCkJMBk"
      },
      "execution_count": null,
      "outputs": []
    },
    {
      "cell_type": "markdown",
      "source": [
        "## Scale the data for improved accuracy"
      ],
      "metadata": {
        "id": "uUYUkzYl3JIK"
      }
    },
    {
      "cell_type": "code",
      "source": [
        "from sklearn.preprocessing import MinMaxScaler\n",
        "\n",
        "scaler = MinMaxScaler()\n",
        "\n",
        "dataset = scaler.fit_transform(dataset)"
      ],
      "metadata": {
        "id": "eZEFLsJBNGnu"
      },
      "execution_count": null,
      "outputs": []
    },
    {
      "cell_type": "markdown",
      "source": [
        "## Dataset is unbalanced"
      ],
      "metadata": {
        "id": "cqrdAoNZ27yW"
      }
    },
    {
      "cell_type": "code",
      "source": [
        "print(dataset['is_claim'].value_counts())"
      ],
      "metadata": {
        "id": "tDFLZzHDR8Gg",
        "colab": {
          "base_uri": "https://localhost:8080/"
        },
        "outputId": "e07b4a23-a27a-44c1-d4a7-519f08b37e99"
      },
      "execution_count": null,
      "outputs": [
        {
          "output_type": "stream",
          "name": "stdout",
          "text": [
            "0    54844\n",
            "1     3748\n",
            "Name: is_claim, dtype: int64\n"
          ]
        }
      ]
    },
    {
      "cell_type": "markdown",
      "source": [
        "### solving the problem over unbalanced data in 'is_claim'. RandomOverSampler generates new samples for the minority classes."
      ],
      "metadata": {
        "id": "D4N5U69pWOin"
      }
    },
    {
      "cell_type": "code",
      "source": [
        "from imblearn.over_sampling import RandomOverSampler\n",
        "\n",
        "rus = RandomOverSampler(random_state = 42)\n",
        "\n",
        "X, y = rus.fit_resample(X,y)"
      ],
      "metadata": {
        "id": "pttS3Z37Vu8Z"
      },
      "execution_count": null,
      "outputs": []
    },
    {
      "cell_type": "code",
      "source": [
        "from sklearn.model_selection import train_test_split\n",
        "\n",
        "X_train, X_test, y_train, y_test = train_test_split(X, y, test_size=0.33, random_state=42, stratify=y)"
      ],
      "metadata": {
        "id": "nScudAfcJVzx"
      },
      "execution_count": null,
      "outputs": []
    },
    {
      "cell_type": "markdown",
      "source": [
        "## Random Forest"
      ],
      "metadata": {
        "id": "rTAdb7qKJFNS"
      }
    },
    {
      "cell_type": "code",
      "source": [
        "from sklearn.ensemble import RandomForestClassifier\n",
        "from sklearn.metrics import accuracy_score\n",
        "from sklearn.metrics import confusion_matrix, classification_report\n",
        "\n",
        "rand_for = RandomForestClassifier(max_depth = 15, random_state = 42)\n",
        "rand_for.fit(X_train, y_train)\n",
        "\n",
        "y_pred = rand_for.predict(X_test)\n",
        "rf_acc = accuracy_score(y_test, y_pred)\n",
        "print(\"Accuracy: \", rf_acc)\n",
        "print(confusion_matrix(y_test, y_pred))\n",
        "print(classification_report(y_test, y_pred))"
      ],
      "metadata": {
        "colab": {
          "base_uri": "https://localhost:8080/"
        },
        "id": "vYkgpAKbJEPa",
        "outputId": "346e2535-da85-4808-feec-0e81407e80c9"
      },
      "execution_count": null,
      "outputs": [
        {
          "output_type": "stream",
          "name": "stdout",
          "text": [
            "Accuracy:  0.8634454942262003\n",
            "[[13609  4490]\n",
            " [  453 17646]]\n",
            "              precision    recall  f1-score   support\n",
            "\n",
            "           0       0.97      0.75      0.85     18099\n",
            "           1       0.80      0.97      0.88     18099\n",
            "\n",
            "    accuracy                           0.86     36198\n",
            "   macro avg       0.88      0.86      0.86     36198\n",
            "weighted avg       0.88      0.86      0.86     36198\n",
            "\n"
          ]
        }
      ]
    },
    {
      "cell_type": "markdown",
      "source": [
        "## Logistic Regression"
      ],
      "metadata": {
        "id": "jZGbmnFlLrK3"
      }
    },
    {
      "cell_type": "code",
      "source": [
        "from sklearn.linear_model import LogisticRegression\n",
        "logreg = LogisticRegression()\n",
        "\n",
        "logreg.fit(X_train, y_train)\n",
        "\n",
        "y_pred = logreg.predict(X_test)\n",
        "log_acc = accuracy_score(y_test, y_pred)\n",
        "print(\"Accuracy: \", log_acc)\n",
        "print(confusion_matrix(y_test, y_pred))\n",
        "print(classification_report(y_test, y_pred))"
      ],
      "metadata": {
        "colab": {
          "base_uri": "https://localhost:8080/"
        },
        "id": "36ivTmv3Lttv",
        "outputId": "ff35b4a0-21df-4867-ff38-e979198a73b7"
      },
      "execution_count": null,
      "outputs": [
        {
          "output_type": "stream",
          "name": "stdout",
          "text": [
            "Accuracy:  0.5123211227139621\n",
            "[[ 7334 10765]\n",
            " [ 6888 11211]]\n",
            "              precision    recall  f1-score   support\n",
            "\n",
            "           0       0.52      0.41      0.45     18099\n",
            "           1       0.51      0.62      0.56     18099\n",
            "\n",
            "    accuracy                           0.51     36198\n",
            "   macro avg       0.51      0.51      0.51     36198\n",
            "weighted avg       0.51      0.51      0.51     36198\n",
            "\n"
          ]
        }
      ]
    },
    {
      "cell_type": "markdown",
      "source": [],
      "metadata": {
        "id": "dTQ6htgbLiC7"
      }
    },
    {
      "cell_type": "markdown",
      "source": [
        "## Naive Bayes"
      ],
      "metadata": {
        "id": "lSuR-yt5WrJe"
      }
    },
    {
      "cell_type": "code",
      "source": [
        "from sklearn.naive_bayes import MultinomialNB\n",
        "\n",
        "nbClass = MultinomialNB(alpha = 1.0, class_prior =None, fit_prior= True)\n",
        "nbClass.fit(X_train, y_train)\n",
        "y_pred = nbClass.predict(X_test)\n",
        "NB_acc = accuracy_score(y_test, y_pred)\n",
        "print(\"Accuracy: \", NB_acc)\n",
        "print(confusion_matrix(y_test, y_pred))\n",
        "print(classification_report(y_test, y_pred))"
      ],
      "metadata": {
        "colab": {
          "base_uri": "https://localhost:8080/"
        },
        "id": "SIkM1pusWt9y",
        "outputId": "803dd536-f88b-4353-ed0e-529947c461ef"
      },
      "execution_count": null,
      "outputs": [
        {
          "output_type": "stream",
          "name": "stdout",
          "text": [
            "Accuracy:  0.5072655947842423\n",
            "[[ 7096 11003]\n",
            " [ 6833 11266]]\n",
            "              precision    recall  f1-score   support\n",
            "\n",
            "           0       0.51      0.39      0.44     18099\n",
            "           1       0.51      0.62      0.56     18099\n",
            "\n",
            "    accuracy                           0.51     36198\n",
            "   macro avg       0.51      0.51      0.50     36198\n",
            "weighted avg       0.51      0.51      0.50     36198\n",
            "\n"
          ]
        }
      ]
    },
    {
      "cell_type": "markdown",
      "source": [
        "## K-Nearest Neighbor"
      ],
      "metadata": {
        "id": "SeWPv4C1XK02"
      }
    },
    {
      "cell_type": "code",
      "source": [
        "from sklearn.neighbors import KNeighborsClassifier\n",
        "\n",
        "knnClass = KNeighborsClassifier(n_neighbors=5, metric = 'minkowski', p=2)\n",
        "knnClass.fit(X_train, y_train)\n",
        "y_pred = knnClass.predict(X_test)\n",
        "KNN_acc = accuracy_score(y_test, y_pred)\n",
        "print(\"Accuracy: \", KNN_acc)\n",
        "print(confusion_matrix(y_test, y_pred))\n",
        "print(classification_report(y_test, y_pred))"
      ],
      "metadata": {
        "colab": {
          "base_uri": "https://localhost:8080/"
        },
        "id": "9L7Nf-jIXOZz",
        "outputId": "a1a60275-585e-4531-fc1b-40d5e590a54e"
      },
      "execution_count": null,
      "outputs": [
        {
          "output_type": "stream",
          "name": "stdout",
          "text": [
            "Accuracy:  0.8763743853251561\n",
            "[[13682  4417]\n",
            " [   58 18041]]\n",
            "              precision    recall  f1-score   support\n",
            "\n",
            "           0       1.00      0.76      0.86     18099\n",
            "           1       0.80      1.00      0.89     18099\n",
            "\n",
            "    accuracy                           0.88     36198\n",
            "   macro avg       0.90      0.88      0.87     36198\n",
            "weighted avg       0.90      0.88      0.87     36198\n",
            "\n"
          ]
        }
      ]
    },
    {
      "cell_type": "markdown",
      "source": [
        "## Decision Trees"
      ],
      "metadata": {
        "id": "oMCoG-r-YG_S"
      }
    },
    {
      "cell_type": "code",
      "source": [
        "from sklearn import tree\n",
        "\n",
        "tree = tree.DecisionTreeClassifier()\n",
        "tree.fit(X_train, y_train)\n",
        "tree_acc = accuracy_score(y_test, y_pred)\n",
        "y_pred = tree.predict(X_test)\n",
        "print(\"Accuracy: \", tree_acc)\n",
        "print(confusion_matrix(y_test, y_pred))\n",
        "print(classification_report(y_test, y_pred))"
      ],
      "metadata": {
        "colab": {
          "base_uri": "https://localhost:8080/"
        },
        "id": "6aRwi7XNagzb",
        "outputId": "534550d6-b503-40d3-a039-2b7f72850f41"
      },
      "execution_count": null,
      "outputs": [
        {
          "output_type": "stream",
          "name": "stdout",
          "text": [
            "Accuracy:  0.8763743853251561\n",
            "[[16476  1623]\n",
            " [    0 18099]]\n",
            "              precision    recall  f1-score   support\n",
            "\n",
            "           0       1.00      0.91      0.95     18099\n",
            "           1       0.92      1.00      0.96     18099\n",
            "\n",
            "    accuracy                           0.96     36198\n",
            "   macro avg       0.96      0.96      0.96     36198\n",
            "weighted avg       0.96      0.96      0.96     36198\n",
            "\n"
          ]
        }
      ]
    },
    {
      "cell_type": "markdown",
      "source": [
        "## ANN Classification with GridSearch"
      ],
      "metadata": {
        "id": "En8lM4WibqmB"
      }
    },
    {
      "cell_type": "code",
      "source": [
        "print(\"Train X: \", X_train.shape)\n",
        "print(\"Test X: \", X_test.shape)\n",
        "print(\"Train y: \", y_train.shape)\n",
        "print(\"Test y: \", y_test.shape)"
      ],
      "metadata": {
        "colab": {
          "base_uri": "https://localhost:8080/"
        },
        "id": "eV7yRrDedzh0",
        "outputId": "f4226098-6802-499b-bfd2-489b151430b3"
      },
      "execution_count": null,
      "outputs": [
        {
          "output_type": "stream",
          "name": "stdout",
          "text": [
            "Train X:  (73490, 39)\n",
            "Test X:  (36198, 39)\n",
            "Train y:  (73490,)\n",
            "Test y:  (36198,)\n"
          ]
        }
      ]
    },
    {
      "cell_type": "code",
      "source": [
        "from tensorflow.keras import Sequential\n",
        "from tensorflow.keras.layers import Dense\n",
        "\n",
        "def build_clf(unit):\n",
        "  ann = Sequential()\n",
        "  ann.add(Dense(unit, activation = 'relu', input_shape=(39,)))\n",
        "  ann.add(Dense(unit, activation = 'relu'))\n",
        "  ann.add(Dense(1, activation = 'sigmoid'))\n",
        "  ann.compile(optimizer = 'adam', loss = 'binary_crossentropy', metrics = ['accuracy'])\n",
        "  return ann"
      ],
      "metadata": {
        "id": "GK2edg6Pf99e"
      },
      "execution_count": null,
      "outputs": []
    },
    {
      "cell_type": "code",
      "source": [
        "from keras.wrappers.scikit_learn import KerasClassifier\n",
        "\n",
        "model = KerasClassifier(build_fn = build_clf)"
      ],
      "metadata": {
        "colab": {
          "base_uri": "https://localhost:8080/"
        },
        "id": "u2OxHb51g7Ba",
        "outputId": "f85d91a1-ebb9-4943-d3f9-ecf46a7b38c7"
      },
      "execution_count": null,
      "outputs": [
        {
          "output_type": "stream",
          "name": "stderr",
          "text": [
            "<ipython-input-22-365d035c0b26>:3: DeprecationWarning: KerasClassifier is deprecated, use Sci-Keras (https://github.com/adriangb/scikeras) instead. See https://www.adriangb.com/scikeras/stable/migration.html for help migrating.\n",
            "  model = KerasClassifier(build_fn = build_clf)\n"
          ]
        }
      ]
    },
    {
      "cell_type": "code",
      "source": [
        "from sklearn.model_selection import GridSearchCV\n",
        "\n",
        "params = {\n",
        "    'batch_size' : [8,16,32],\n",
        "    'nb_epoch' : [30, 50],\n",
        "    'unit' : [6, 12, 18, 24, 30]\n",
        "}"
      ],
      "metadata": {
        "id": "QZzoUdYuhJ4d"
      },
      "execution_count": null,
      "outputs": []
    },
    {
      "cell_type": "code",
      "source": [
        "grid_search = GridSearchCV(estimator = model, param_grid = params)\n",
        "grid_search = grid_search.fit(X_train, y_train)"
      ],
      "metadata": {
        "colab": {
          "base_uri": "https://localhost:8080/"
        },
        "id": "P2QaWtR7ha3N",
        "outputId": "418e3eb9-e80b-44b0-eb3c-66d25f6f50a2"
      },
      "execution_count": null,
      "outputs": [
        {
          "output_type": "stream",
          "name": "stdout",
          "text": [
            "7349/7349 [==============================] - 16s 2ms/step - loss: 9.8975 - accuracy: 0.5081\n",
            "1838/1838 [==============================] - 3s 2ms/step - loss: 2.3332 - accuracy: 0.5110\n",
            "7349/7349 [==============================] - 15s 2ms/step - loss: 8.8275 - accuracy: 0.4942\n",
            "1838/1838 [==============================] - 3s 2ms/step - loss: 0.7621 - accuracy: 0.5141\n",
            "7349/7349 [==============================] - 15s 2ms/step - loss: 4.7248 - accuracy: 0.4974\n",
            "1838/1838 [==============================] - 3s 2ms/step - loss: 0.6931 - accuracy: 0.5016\n",
            "7349/7349 [==============================] - 15s 2ms/step - loss: 4.8657 - accuracy: 0.5057\n",
            "1838/1838 [==============================] - 3s 2ms/step - loss: 0.8086 - accuracy: 0.5016\n",
            "7349/7349 [==============================] - 16s 2ms/step - loss: 9.8706 - accuracy: 0.5062\n",
            "1838/1838 [==============================] - 3s 2ms/step - loss: 0.7088 - accuracy: 0.4903\n",
            "7349/7349 [==============================] - 15s 2ms/step - loss: 13.7442 - accuracy: 0.5021\n",
            "1838/1838 [==============================] - 3s 2ms/step - loss: 12.5160 - accuracy: 0.5065\n",
            "7349/7349 [==============================] - 16s 2ms/step - loss: 12.1075 - accuracy: 0.4986\n",
            "1838/1838 [==============================] - 3s 2ms/step - loss: 2.5444 - accuracy: 0.5066\n",
            "7349/7349 [==============================] - 17s 2ms/step - loss: 5.5370 - accuracy: 0.5038\n",
            "1838/1838 [==============================] - 3s 2ms/step - loss: 1.6591 - accuracy: 0.4961\n",
            "7349/7349 [==============================] - 20s 3ms/step - loss: 4.9053 - accuracy: 0.5069\n",
            "1838/1838 [==============================] - 3s 2ms/step - loss: 1.7302 - accuracy: 0.5045\n",
            "7349/7349 [==============================] - 15s 2ms/step - loss: 21.2488 - accuracy: 0.5030\n",
            "1838/1838 [==============================] - 3s 2ms/step - loss: 8.3246 - accuracy: 0.5021\n",
            "7349/7349 [==============================] - 15s 2ms/step - loss: 23.4586 - accuracy: 0.5023\n",
            "1838/1838 [==============================] - 3s 2ms/step - loss: 12.1906 - accuracy: 0.5153\n",
            "7349/7349 [==============================] - 16s 2ms/step - loss: 17.9949 - accuracy: 0.5064\n",
            "1838/1838 [==============================] - 3s 2ms/step - loss: 4.4404 - accuracy: 0.5323\n",
            "7349/7349 [==============================] - 17s 2ms/step - loss: 13.3014 - accuracy: 0.5007\n",
            "1838/1838 [==============================] - 3s 2ms/step - loss: 16.2633 - accuracy: 0.4984\n",
            "7349/7349 [==============================] - 19s 3ms/step - loss: 14.3491 - accuracy: 0.5066\n",
            "1838/1838 [==============================] - 4s 2ms/step - loss: 6.7970 - accuracy: 0.5031\n",
            "7349/7349 [==============================] - 18s 2ms/step - loss: 9.7991 - accuracy: 0.5019\n",
            "1838/1838 [==============================] - 4s 2ms/step - loss: 3.3387 - accuracy: 0.5038\n",
            "7349/7349 [==============================] - 17s 2ms/step - loss: 16.9047 - accuracy: 0.5000\n",
            "1838/1838 [==============================] - 3s 2ms/step - loss: 3.8042 - accuracy: 0.4982\n",
            "7349/7349 [==============================] - 17s 2ms/step - loss: 14.4099 - accuracy: 0.5001\n",
            "1838/1838 [==============================] - 4s 2ms/step - loss: 1.4926 - accuracy: 0.5007\n",
            "7349/7349 [==============================] - 19s 2ms/step - loss: 8.4497 - accuracy: 0.5029\n",
            "1838/1838 [==============================] - 4s 2ms/step - loss: 1.2588 - accuracy: 0.5103\n",
            "7349/7349 [==============================] - 20s 3ms/step - loss: 11.9339 - accuracy: 0.5018\n",
            "1838/1838 [==============================] - 4s 2ms/step - loss: 7.0890 - accuracy: 0.5012\n",
            "7349/7349 [==============================] - 22s 3ms/step - loss: 23.4396 - accuracy: 0.5012\n",
            "1838/1838 [==============================] - 6s 3ms/step - loss: 9.9679 - accuracy: 0.4961\n",
            "7349/7349 [==============================] - 20s 3ms/step - loss: 9.9249 - accuracy: 0.5029\n",
            "1838/1838 [==============================] - 4s 2ms/step - loss: 1.7568 - accuracy: 0.5110\n",
            "7349/7349 [==============================] - 23s 3ms/step - loss: 20.1578 - accuracy: 0.4993\n",
            "1838/1838 [==============================] - 4s 2ms/step - loss: 26.1295 - accuracy: 0.5014\n",
            "7349/7349 [==============================] - 19s 2ms/step - loss: 15.4940 - accuracy: 0.5015\n",
            "1838/1838 [==============================] - 4s 2ms/step - loss: 8.3078 - accuracy: 0.5000\n",
            "7349/7349 [==============================] - 20s 3ms/step - loss: 17.3413 - accuracy: 0.5044\n",
            "1838/1838 [==============================] - 4s 2ms/step - loss: 10.7742 - accuracy: 0.4986\n",
            "7349/7349 [==============================] - 18s 2ms/step - loss: 17.5155 - accuracy: 0.5004\n",
            "1838/1838 [==============================] - 4s 2ms/step - loss: 30.7852 - accuracy: 0.4963\n",
            "7349/7349 [==============================] - 19s 2ms/step - loss: 0.9574 - accuracy: 0.5010\n",
            "1838/1838 [==============================] - 3s 2ms/step - loss: 0.6956 - accuracy: 0.5071\n",
            "7349/7349 [==============================] - 18s 2ms/step - loss: 28.2916 - accuracy: 0.5024\n",
            "1838/1838 [==============================] - 6s 3ms/step - loss: 1.5854 - accuracy: 0.5128\n",
            "7349/7349 [==============================] - 18s 2ms/step - loss: 1.6207 - accuracy: 0.5027\n",
            "1838/1838 [==============================] - 3s 2ms/step - loss: 0.6932 - accuracy: 0.5016\n",
            "7349/7349 [==============================] - 16s 2ms/step - loss: 11.1796 - accuracy: 0.5017\n",
            "1838/1838 [==============================] - 3s 2ms/step - loss: 1.5312 - accuracy: 0.5131\n",
            "7349/7349 [==============================] - 16s 2ms/step - loss: 7.8174 - accuracy: 0.5040\n",
            "1838/1838 [==============================] - 4s 2ms/step - loss: 2.0281 - accuracy: 0.4955\n",
            "7349/7349 [==============================] - 21s 3ms/step - loss: 3.8086 - accuracy: 0.4984\n",
            "1838/1838 [==============================] - 3s 2ms/step - loss: 2.1378 - accuracy: 0.4931\n",
            "7349/7349 [==============================] - 16s 2ms/step - loss: 9.9121 - accuracy: 0.5090\n",
            "1838/1838 [==============================] - 3s 2ms/step - loss: 6.7251 - accuracy: 0.4973\n",
            "7349/7349 [==============================] - 16s 2ms/step - loss: 10.0566 - accuracy: 0.5035\n",
            "1838/1838 [==============================] - 3s 2ms/step - loss: 8.6514 - accuracy: 0.5027\n",
            "7349/7349 [==============================] - 16s 2ms/step - loss: 12.4225 - accuracy: 0.5026\n",
            "1838/1838 [==============================] - 3s 2ms/step - loss: 1.9397 - accuracy: 0.5071\n",
            "7349/7349 [==============================] - 17s 2ms/step - loss: 9.4751 - accuracy: 0.5069\n",
            "1838/1838 [==============================] - 4s 2ms/step - loss: 0.8037 - accuracy: 0.5044\n",
            "7349/7349 [==============================] - 17s 2ms/step - loss: 8.4623 - accuracy: 0.5037\n",
            "1838/1838 [==============================] - 3s 2ms/step - loss: 1.1050 - accuracy: 0.5133\n",
            "7349/7349 [==============================] - 18s 2ms/step - loss: 8.3256 - accuracy: 0.5090\n",
            "1838/1838 [==============================] - 4s 2ms/step - loss: 15.3670 - accuracy: 0.4993\n",
            "7349/7349 [==============================] - 20s 3ms/step - loss: 4.7491 - accuracy: 0.5018\n",
            "1838/1838 [==============================] - 3s 2ms/step - loss: 2.7596 - accuracy: 0.5052\n",
            "7349/7349 [==============================] - 18s 2ms/step - loss: 22.3598 - accuracy: 0.5045\n",
            "1838/1838 [==============================] - 4s 2ms/step - loss: 6.4548 - accuracy: 0.5000\n",
            "7349/7349 [==============================] - 19s 3ms/step - loss: 11.4422 - accuracy: 0.4996\n",
            "1838/1838 [==============================] - 4s 2ms/step - loss: 5.5754 - accuracy: 0.4993\n",
            "7349/7349 [==============================] - 18s 2ms/step - loss: 13.7299 - accuracy: 0.5037\n",
            "1838/1838 [==============================] - 3s 2ms/step - loss: 1.7242 - accuracy: 0.5022\n",
            "7349/7349 [==============================] - 17s 2ms/step - loss: 19.7424 - accuracy: 0.5052\n",
            "1838/1838 [==============================] - 4s 2ms/step - loss: 4.7135 - accuracy: 0.5208\n",
            "7349/7349 [==============================] - 18s 2ms/step - loss: 8.4541 - accuracy: 0.5052\n",
            "1838/1838 [==============================] - 3s 2ms/step - loss: 0.7314 - accuracy: 0.5067\n",
            "7349/7349 [==============================] - 16s 2ms/step - loss: 8.4015 - accuracy: 0.5014\n",
            "1838/1838 [==============================] - 3s 2ms/step - loss: 2.1204 - accuracy: 0.4999\n",
            "7349/7349 [==============================] - 16s 2ms/step - loss: 12.8114 - accuracy: 0.5023\n",
            "1838/1838 [==============================] - 3s 2ms/step - loss: 5.2575 - accuracy: 0.4952\n",
            "7349/7349 [==============================] - 16s 2ms/step - loss: 10.1406 - accuracy: 0.5037\n",
            "1838/1838 [==============================] - 3s 2ms/step - loss: 1.5344 - accuracy: 0.5130\n",
            "7349/7349 [==============================] - 16s 2ms/step - loss: 16.5588 - accuracy: 0.4974\n",
            "1838/1838 [==============================] - 3s 2ms/step - loss: 22.0994 - accuracy: 0.5018\n",
            "7349/7349 [==============================] - 16s 2ms/step - loss: 17.6501 - accuracy: 0.5022\n",
            "1838/1838 [==============================] - 3s 1ms/step - loss: 5.5052 - accuracy: 0.5022\n",
            "7349/7349 [==============================] - 16s 2ms/step - loss: 18.1287 - accuracy: 0.4996\n",
            "1838/1838 [==============================] - 3s 2ms/step - loss: 6.0360 - accuracy: 0.5015\n",
            "7349/7349 [==============================] - 16s 2ms/step - loss: 13.0905 - accuracy: 0.5023\n",
            "1838/1838 [==============================] - 3s 2ms/step - loss: 1.5931 - accuracy: 0.5116\n",
            "3675/3675 [==============================] - 8s 2ms/step - loss: 17.1785 - accuracy: 0.4961\n",
            "919/919 [==============================] - 1s 1ms/step - loss: 1.8426 - accuracy: 0.5037\n",
            "3675/3675 [==============================] - 9s 2ms/step - loss: 7.5516 - accuracy: 0.5035\n",
            "919/919 [==============================] - 2s 2ms/step - loss: 4.1844 - accuracy: 0.5016\n",
            "3675/3675 [==============================] - 8s 2ms/step - loss: 0.7089 - accuracy: 0.4998\n",
            "919/919 [==============================] - 2s 2ms/step - loss: 0.6932 - accuracy: 0.5016\n",
            "3675/3675 [==============================] - 8s 2ms/step - loss: 14.1891 - accuracy: 0.5081\n",
            "919/919 [==============================] - 2s 2ms/step - loss: 0.9964 - accuracy: 0.5107\n",
            "3675/3675 [==============================] - 8s 2ms/step - loss: 4.5024 - accuracy: 0.5041\n",
            "919/919 [==============================] - 2s 2ms/step - loss: 0.6929 - accuracy: 0.5133\n",
            "3675/3675 [==============================] - 8s 2ms/step - loss: 6.0156 - accuracy: 0.5010\n",
            "919/919 [==============================] - 2s 2ms/step - loss: 1.8690 - accuracy: 0.4933\n",
            "3675/3675 [==============================] - 8s 2ms/step - loss: 7.9503 - accuracy: 0.5011\n",
            "919/919 [==============================] - 2s 2ms/step - loss: 3.1062 - accuracy: 0.4996\n",
            "3675/3675 [==============================] - 8s 2ms/step - loss: 13.5127 - accuracy: 0.5042\n",
            "919/919 [==============================] - 2s 2ms/step - loss: 3.9785 - accuracy: 0.5014\n",
            "3675/3675 [==============================] - 12s 3ms/step - loss: 22.8602 - accuracy: 0.5009\n",
            "919/919 [==============================] - 2s 2ms/step - loss: 33.6261 - accuracy: 0.4978\n",
            "3675/3675 [==============================] - 8s 2ms/step - loss: 22.6214 - accuracy: 0.4985\n",
            "919/919 [==============================] - 2s 2ms/step - loss: 25.7390 - accuracy: 0.4963\n",
            "3675/3675 [==============================] - 8s 2ms/step - loss: 13.5349 - accuracy: 0.5089\n",
            "919/919 [==============================] - 2s 2ms/step - loss: 9.2731 - accuracy: 0.5069\n",
            "3675/3675 [==============================] - 9s 2ms/step - loss: 20.8544 - accuracy: 0.4989\n",
            "919/919 [==============================] - 2s 2ms/step - loss: 10.5323 - accuracy: 0.5021\n",
            "3675/3675 [==============================] - 9s 2ms/step - loss: 10.7471 - accuracy: 0.5029\n",
            "919/919 [==============================] - 2s 2ms/step - loss: 4.2148 - accuracy: 0.4973\n",
            "3675/3675 [==============================] - 9s 2ms/step - loss: 8.1213 - accuracy: 0.4974\n",
            "919/919 [==============================] - 2s 2ms/step - loss: 7.1495 - accuracy: 0.4967\n",
            "3675/3675 [==============================] - 9s 2ms/step - loss: 12.6552 - accuracy: 0.5083\n",
            "919/919 [==============================] - 2s 2ms/step - loss: 2.1471 - accuracy: 0.5023\n",
            "3675/3675 [==============================] - 9s 2ms/step - loss: 11.5571 - accuracy: 0.5062\n",
            "919/919 [==============================] - 2s 2ms/step - loss: 4.1286 - accuracy: 0.5119\n",
            "3675/3675 [==============================] - 8s 2ms/step - loss: 35.5697 - accuracy: 0.4989\n",
            "919/919 [==============================] - 2s 1ms/step - loss: 12.1961 - accuracy: 0.5017\n",
            "3675/3675 [==============================] - 9s 2ms/step - loss: 5.6419 - accuracy: 0.4972\n",
            "919/919 [==============================] - 2s 2ms/step - loss: 2.7643 - accuracy: 0.4916\n",
            "3675/3675 [==============================] - 8s 2ms/step - loss: 18.9343 - accuracy: 0.5013\n",
            "919/919 [==============================] - 2s 2ms/step - loss: 5.5884 - accuracy: 0.5135\n",
            "3675/3675 [==============================] - 8s 2ms/step - loss: 16.9512 - accuracy: 0.5009\n",
            "919/919 [==============================] - 2s 1ms/step - loss: 16.4972 - accuracy: 0.5050\n",
            "3675/3675 [==============================] - 8s 2ms/step - loss: 18.4998 - accuracy: 0.5043\n",
            "919/919 [==============================] - 1s 1ms/step - loss: 3.9709 - accuracy: 0.5133\n",
            "3675/3675 [==============================] - 8s 2ms/step - loss: 21.2042 - accuracy: 0.5066\n",
            "919/919 [==============================] - 2s 2ms/step - loss: 5.9965 - accuracy: 0.5211\n",
            "3675/3675 [==============================] - 8s 2ms/step - loss: 18.0985 - accuracy: 0.5016\n",
            "919/919 [==============================] - 2s 2ms/step - loss: 6.5494 - accuracy: 0.4912\n",
            "3675/3675 [==============================] - 8s 2ms/step - loss: 15.7984 - accuracy: 0.5036\n",
            "919/919 [==============================] - 1s 1ms/step - loss: 1.7907 - accuracy: 0.4977\n",
            "3675/3675 [==============================] - 9s 2ms/step - loss: 14.0278 - accuracy: 0.5021\n",
            "919/919 [==============================] - 2s 2ms/step - loss: 3.9336 - accuracy: 0.5052\n",
            "3675/3675 [==============================] - 11s 3ms/step - loss: 1.0111 - accuracy: 0.4989\n",
            "919/919 [==============================] - 2s 2ms/step - loss: 0.6931 - accuracy: 0.5065\n",
            "3675/3675 [==============================] - 9s 2ms/step - loss: 4.4562 - accuracy: 0.5042\n",
            "919/919 [==============================] - 2s 2ms/step - loss: 1.1316 - accuracy: 0.5024\n",
            "3675/3675 [==============================] - 9s 2ms/step - loss: 1.9370 - accuracy: 0.5046\n",
            "919/919 [==============================] - 2s 2ms/step - loss: 0.8078 - accuracy: 0.5124\n",
            "3675/3675 [==============================] - 9s 2ms/step - loss: 26.1414 - accuracy: 0.4974\n",
            "919/919 [==============================] - 2s 2ms/step - loss: 0.6931 - accuracy: 0.5015\n",
            "3675/3675 [==============================] - 8s 2ms/step - loss: 4.2524 - accuracy: 0.5052\n",
            "919/919 [==============================] - 2s 2ms/step - loss: 1.2936 - accuracy: 0.5163\n",
            "3675/3675 [==============================] - 8s 2ms/step - loss: 11.1330 - accuracy: 0.5019\n",
            "919/919 [==============================] - 2s 2ms/step - loss: 4.8345 - accuracy: 0.5059\n",
            "3675/3675 [==============================] - 13s 3ms/step - loss: 6.2377 - accuracy: 0.5002\n",
            "919/919 [==============================] - 2s 2ms/step - loss: 1.7353 - accuracy: 0.5195\n",
            "3675/3675 [==============================] - 9s 2ms/step - loss: 3.3715 - accuracy: 0.5046\n",
            "919/919 [==============================] - 2s 2ms/step - loss: 3.1151 - accuracy: 0.5005\n",
            "3675/3675 [==============================] - 8s 2ms/step - loss: 10.4689 - accuracy: 0.5049\n",
            "919/919 [==============================] - 2s 2ms/step - loss: 13.8998 - accuracy: 0.5000\n",
            "3675/3675 [==============================] - 8s 2ms/step - loss: 8.4237 - accuracy: 0.5020\n",
            "919/919 [==============================] - 2s 2ms/step - loss: 4.0254 - accuracy: 0.5014\n",
            "3675/3675 [==============================] - 9s 2ms/step - loss: 8.5067 - accuracy: 0.5030\n",
            "919/919 [==============================] - 2s 2ms/step - loss: 8.6830 - accuracy: 0.5087\n",
            "3675/3675 [==============================] - 9s 2ms/step - loss: 22.4697 - accuracy: 0.5039\n",
            "919/919 [==============================] - 2s 2ms/step - loss: 5.5192 - accuracy: 0.5005\n",
            "3675/3675 [==============================] - 9s 2ms/step - loss: 13.5976 - accuracy: 0.5058\n",
            "919/919 [==============================] - 2s 2ms/step - loss: 3.5800 - accuracy: 0.5008\n",
            "3675/3675 [==============================] - 9s 2ms/step - loss: 35.3481 - accuracy: 0.5041\n",
            "919/919 [==============================] - 2s 2ms/step - loss: 3.9391 - accuracy: 0.4994\n",
            "3675/3675 [==============================] - 9s 2ms/step - loss: 19.3019 - accuracy: 0.4987\n",
            "919/919 [==============================] - 2s 2ms/step - loss: 7.1448 - accuracy: 0.5041\n",
            "3675/3675 [==============================] - 9s 2ms/step - loss: 16.7673 - accuracy: 0.5015\n",
            "919/919 [==============================] - 2s 2ms/step - loss: 18.0928 - accuracy: 0.4938\n",
            "3675/3675 [==============================] - 9s 2ms/step - loss: 10.0065 - accuracy: 0.5040\n",
            "919/919 [==============================] - 2s 2ms/step - loss: 9.5019 - accuracy: 0.5210\n",
            "3675/3675 [==============================] - 8s 2ms/step - loss: 9.6073 - accuracy: 0.5032\n",
            "919/919 [==============================] - 2s 2ms/step - loss: 3.8563 - accuracy: 0.5040\n",
            "3675/3675 [==============================] - 8s 2ms/step - loss: 19.5603 - accuracy: 0.5070\n",
            "919/919 [==============================] - 2s 2ms/step - loss: 4.0327 - accuracy: 0.5225\n",
            "3675/3675 [==============================] - 8s 2ms/step - loss: 23.2813 - accuracy: 0.4998\n",
            "919/919 [==============================] - 2s 2ms/step - loss: 3.2016 - accuracy: 0.4885\n",
            "3675/3675 [==============================] - 9s 2ms/step - loss: 17.1806 - accuracy: 0.5031\n",
            "919/919 [==============================] - 2s 2ms/step - loss: 15.5645 - accuracy: 0.4934\n",
            "3675/3675 [==============================] - 9s 2ms/step - loss: 11.0227 - accuracy: 0.5023\n",
            "919/919 [==============================] - 2s 2ms/step - loss: 2.9268 - accuracy: 0.5085\n",
            "3675/3675 [==============================] - 9s 2ms/step - loss: 16.2921 - accuracy: 0.5019\n",
            "919/919 [==============================] - 2s 2ms/step - loss: 12.5741 - accuracy: 0.5127\n",
            "3675/3675 [==============================] - 9s 2ms/step - loss: 20.7985 - accuracy: 0.5022\n",
            "919/919 [==============================] - 2s 2ms/step - loss: 2.8171 - accuracy: 0.5059\n",
            "3675/3675 [==============================] - 9s 2ms/step - loss: 15.1702 - accuracy: 0.4998\n",
            "919/919 [==============================] - 2s 2ms/step - loss: 29.0602 - accuracy: 0.5040\n",
            "1838/1838 [==============================] - 4s 2ms/step - loss: 22.7602 - accuracy: 0.5003\n",
            "460/460 [==============================] - 1s 2ms/step - loss: 0.8748 - accuracy: 0.5071\n",
            "1838/1838 [==============================] - 4s 2ms/step - loss: 46.6901 - accuracy: 0.5027\n",
            "460/460 [==============================] - 1s 2ms/step - loss: 1.4326 - accuracy: 0.5029\n",
            "1838/1838 [==============================] - 4s 2ms/step - loss: 3.8160 - accuracy: 0.5036\n",
            "460/460 [==============================] - 1s 2ms/step - loss: 1.0407 - accuracy: 0.4984\n",
            "1838/1838 [==============================] - 4s 2ms/step - loss: 105.5795 - accuracy: 0.4981\n",
            "460/460 [==============================] - 1s 2ms/step - loss: 0.6932 - accuracy: 0.4985\n",
            "1838/1838 [==============================] - 4s 2ms/step - loss: 6.9982 - accuracy: 0.5049\n",
            "460/460 [==============================] - 1s 2ms/step - loss: 1.6922 - accuracy: 0.5009\n",
            "1838/1838 [==============================] - 4s 2ms/step - loss: 21.8897 - accuracy: 0.5069\n",
            "460/460 [==============================] - 1s 2ms/step - loss: 5.1931 - accuracy: 0.4986\n",
            "1838/1838 [==============================] - 4s 2ms/step - loss: 10.6624 - accuracy: 0.4996\n",
            "460/460 [==============================] - 1s 2ms/step - loss: 2.7285 - accuracy: 0.5005\n",
            "1838/1838 [==============================] - 4s 2ms/step - loss: 42.4550 - accuracy: 0.5083\n",
            "460/460 [==============================] - 1s 2ms/step - loss: 3.5360 - accuracy: 0.5078\n",
            "1838/1838 [==============================] - 8s 4ms/step - loss: 3.9125 - accuracy: 0.5050\n",
            "460/460 [==============================] - 1s 2ms/step - loss: 3.3656 - accuracy: 0.5027\n",
            "1838/1838 [==============================] - 4s 2ms/step - loss: 3.5719 - accuracy: 0.4981\n",
            "460/460 [==============================] - 1s 2ms/step - loss: 1.2790 - accuracy: 0.5015\n",
            "1838/1838 [==============================] - 4s 2ms/step - loss: 10.0564 - accuracy: 0.5000\n",
            "460/460 [==============================] - 1s 2ms/step - loss: 7.4788 - accuracy: 0.5091\n",
            "1838/1838 [==============================] - 5s 2ms/step - loss: 5.6569 - accuracy: 0.4995\n",
            "460/460 [==============================] - 1s 2ms/step - loss: 4.2141 - accuracy: 0.5034\n",
            "1838/1838 [==============================] - 5s 2ms/step - loss: 12.2888 - accuracy: 0.5039\n",
            "460/460 [==============================] - 1s 2ms/step - loss: 1.3907 - accuracy: 0.5095\n",
            "1838/1838 [==============================] - 5s 2ms/step - loss: 29.0099 - accuracy: 0.5039\n",
            "460/460 [==============================] - 1s 2ms/step - loss: 5.5938 - accuracy: 0.4952\n",
            "1838/1838 [==============================] - 4s 2ms/step - loss: 15.8306 - accuracy: 0.5007\n",
            "460/460 [==============================] - 1s 2ms/step - loss: 3.4182 - accuracy: 0.4899\n",
            "1838/1838 [==============================] - 5s 2ms/step - loss: 13.3039 - accuracy: 0.4992\n",
            "460/460 [==============================] - 1s 2ms/step - loss: 8.7498 - accuracy: 0.5071\n",
            "1838/1838 [==============================] - 5s 2ms/step - loss: 4.6995 - accuracy: 0.5061\n",
            "460/460 [==============================] - 1s 2ms/step - loss: 4.3034 - accuracy: 0.5043\n",
            "1838/1838 [==============================] - 5s 2ms/step - loss: 18.1950 - accuracy: 0.5009\n",
            "460/460 [==============================] - 1s 2ms/step - loss: 6.0293 - accuracy: 0.5016\n",
            "1838/1838 [==============================] - 4s 2ms/step - loss: 12.7411 - accuracy: 0.5013\n",
            "460/460 [==============================] - 1s 2ms/step - loss: 6.4944 - accuracy: 0.5176\n",
            "1838/1838 [==============================] - 4s 2ms/step - loss: 16.8193 - accuracy: 0.5021\n",
            "460/460 [==============================] - 1s 2ms/step - loss: 2.5569 - accuracy: 0.4978\n",
            "1838/1838 [==============================] - 4s 2ms/step - loss: 11.7209 - accuracy: 0.5036\n",
            "460/460 [==============================] - 1s 2ms/step - loss: 7.2230 - accuracy: 0.5099\n",
            "1838/1838 [==============================] - 5s 2ms/step - loss: 11.8920 - accuracy: 0.5063\n",
            "460/460 [==============================] - 1s 2ms/step - loss: 9.3486 - accuracy: 0.5028\n",
            "1838/1838 [==============================] - 4s 2ms/step - loss: 14.6027 - accuracy: 0.5016\n",
            "460/460 [==============================] - 1s 2ms/step - loss: 4.2480 - accuracy: 0.4888\n",
            "1838/1838 [==============================] - 4s 2ms/step - loss: 11.7655 - accuracy: 0.5000\n",
            "460/460 [==============================] - 1s 2ms/step - loss: 16.0417 - accuracy: 0.4997\n",
            "1838/1838 [==============================] - 4s 2ms/step - loss: 11.0319 - accuracy: 0.5028\n",
            "460/460 [==============================] - 1s 3ms/step - loss: 11.9689 - accuracy: 0.5136\n",
            "1838/1838 [==============================] - 4s 2ms/step - loss: 21.7322 - accuracy: 0.5016\n",
            "460/460 [==============================] - 1s 2ms/step - loss: 0.9328 - accuracy: 0.5061\n",
            "1838/1838 [==============================] - 4s 2ms/step - loss: 8.6335 - accuracy: 0.4960\n",
            "460/460 [==============================] - 1s 2ms/step - loss: 1.4297 - accuracy: 0.4894\n",
            "1838/1838 [==============================] - 4s 2ms/step - loss: 9.2938 - accuracy: 0.5008\n",
            "460/460 [==============================] - 1s 2ms/step - loss: 0.7307 - accuracy: 0.4988\n",
            "1838/1838 [==============================] - 4s 2ms/step - loss: 166.2007 - accuracy: 0.4988\n",
            "460/460 [==============================] - 1s 2ms/step - loss: 0.6932 - accuracy: 0.5015\n",
            "1838/1838 [==============================] - 4s 2ms/step - loss: 7.7359 - accuracy: 0.4978\n",
            "460/460 [==============================] - 1s 2ms/step - loss: 0.8013 - accuracy: 0.5018\n",
            "1838/1838 [==============================] - 4s 2ms/step - loss: 63.2053 - accuracy: 0.5053\n",
            "460/460 [==============================] - 1s 2ms/step - loss: 4.4546 - accuracy: 0.5054\n",
            "1838/1838 [==============================] - 4s 2ms/step - loss: 5.1527 - accuracy: 0.5030\n",
            "460/460 [==============================] - 1s 1ms/step - loss: 2.0278 - accuracy: 0.4980\n",
            "1838/1838 [==============================] - 4s 2ms/step - loss: 19.9300 - accuracy: 0.4988\n",
            "460/460 [==============================] - 1s 2ms/step - loss: 24.1276 - accuracy: 0.5012\n",
            "1838/1838 [==============================] - 4s 2ms/step - loss: 8.5478 - accuracy: 0.5018\n",
            "460/460 [==============================] - 1s 2ms/step - loss: 4.2004 - accuracy: 0.5031\n",
            "1838/1838 [==============================] - 4s 2ms/step - loss: 8.8054 - accuracy: 0.5044\n",
            "460/460 [==============================] - 1s 2ms/step - loss: 7.8775 - accuracy: 0.5039\n",
            "1838/1838 [==============================] - 4s 2ms/step - loss: 17.3136 - accuracy: 0.4968\n",
            "460/460 [==============================] - 1s 2ms/step - loss: 4.2136 - accuracy: 0.5130\n",
            "1838/1838 [==============================] - 4s 2ms/step - loss: 18.4969 - accuracy: 0.5010\n",
            "460/460 [==============================] - 1s 2ms/step - loss: 9.8922 - accuracy: 0.4822\n",
            "1838/1838 [==============================] - 5s 2ms/step - loss: 8.9989 - accuracy: 0.5055\n",
            "460/460 [==============================] - 1s 1ms/step - loss: 9.3075 - accuracy: 0.5127\n",
            "1838/1838 [==============================] - 4s 2ms/step - loss: 7.3987 - accuracy: 0.5038\n",
            "460/460 [==============================] - 1s 2ms/step - loss: 1.7129 - accuracy: 0.5097\n",
            "1838/1838 [==============================] - 4s 2ms/step - loss: 16.0256 - accuracy: 0.4982\n",
            "460/460 [==============================] - 1s 2ms/step - loss: 12.3319 - accuracy: 0.5024\n",
            "1838/1838 [==============================] - 4s 2ms/step - loss: 12.6705 - accuracy: 0.5005\n",
            "460/460 [==============================] - 1s 2ms/step - loss: 13.8009 - accuracy: 0.4948\n",
            "1838/1838 [==============================] - 4s 2ms/step - loss: 15.0809 - accuracy: 0.4976\n",
            "460/460 [==============================] - 1s 2ms/step - loss: 6.7715 - accuracy: 0.5060\n",
            "1838/1838 [==============================] - 4s 2ms/step - loss: 21.1382 - accuracy: 0.5011\n",
            "460/460 [==============================] - 1s 2ms/step - loss: 19.8413 - accuracy: 0.4998\n",
            "1838/1838 [==============================] - 5s 2ms/step - loss: 6.9730 - accuracy: 0.5055\n",
            "460/460 [==============================] - 1s 2ms/step - loss: 1.1549 - accuracy: 0.5100\n",
            "1838/1838 [==============================] - 5s 2ms/step - loss: 9.5281 - accuracy: 0.5033\n",
            "460/460 [==============================] - 1s 2ms/step - loss: 2.5232 - accuracy: 0.5095\n",
            "1838/1838 [==============================] - 4s 2ms/step - loss: 16.7908 - accuracy: 0.5035\n",
            "460/460 [==============================] - 1s 2ms/step - loss: 9.8886 - accuracy: 0.5059\n",
            "1838/1838 [==============================] - 4s 2ms/step - loss: 10.1789 - accuracy: 0.4982\n",
            "460/460 [==============================] - 1s 2ms/step - loss: 7.2546 - accuracy: 0.4799\n",
            "1838/1838 [==============================] - 4s 2ms/step - loss: 18.1399 - accuracy: 0.4958\n",
            "460/460 [==============================] - 1s 2ms/step - loss: 4.0867 - accuracy: 0.4993\n",
            "1838/1838 [==============================] - 4s 2ms/step - loss: 7.9623 - accuracy: 0.5104\n",
            "460/460 [==============================] - 1s 2ms/step - loss: 6.5791 - accuracy: 0.5011\n",
            "1838/1838 [==============================] - 4s 2ms/step - loss: 34.6148 - accuracy: 0.5035\n",
            "460/460 [==============================] - 1s 2ms/step - loss: 8.2686 - accuracy: 0.5170\n",
            "9187/9187 [==============================] - 23s 2ms/step - loss: 8.0799 - accuracy: 0.5013\n"
          ]
        }
      ]
    },
    {
      "cell_type": "code",
      "source": [
        "best_parameters = grid_search.best_params_\n",
        "best_accuracy = grid_search.best_score_\n",
        "\n",
        "print(\"Best Parameters \", best_parameters)\n",
        "print(\"Best Accuracy \", best_accuracy)"
      ],
      "metadata": {
        "id": "nu-ySy0Fj1pr",
        "colab": {
          "base_uri": "https://localhost:8080/"
        },
        "outputId": "d6b24b33-99a1-4b05-8a0d-a8b057bd5569"
      },
      "execution_count": null,
      "outputs": [
        {
          "output_type": "stream",
          "name": "stdout",
          "text": [
            "Best Parameters  {'batch_size': 8, 'nb_epoch': 30, 'unit': 18}\n",
            "Best Accuracy  0.510572874546051\n"
          ]
        }
      ]
    },
    {
      "cell_type": "code",
      "source": [
        "y_pred = grid_search.predict(X_test)\n",
        "y_pred = y_pred > 0.5"
      ],
      "metadata": {
        "id": "SXeBUnhVj5G4",
        "colab": {
          "base_uri": "https://localhost:8080/"
        },
        "outputId": "1c673e1d-b3b7-4a8b-cae9-946d00abd023"
      },
      "execution_count": null,
      "outputs": [
        {
          "output_type": "stream",
          "name": "stdout",
          "text": [
            "1132/1132 [==============================] - 2s 1ms/step\n"
          ]
        }
      ]
    },
    {
      "cell_type": "code",
      "source": [
        "from sklearn.metrics import classification_report, confusion_matrix\n",
        "\n",
        "confusion_matrix(y_test, y_pred)\n",
        "print(classification_report(y_test, y_pred))"
      ],
      "metadata": {
        "id": "9e_TWkbBj8NZ",
        "colab": {
          "base_uri": "https://localhost:8080/"
        },
        "outputId": "a3ac731b-ea50-48ce-a314-d0e5c2be7c75"
      },
      "execution_count": null,
      "outputs": [
        {
          "output_type": "stream",
          "name": "stdout",
          "text": [
            "              precision    recall  f1-score   support\n",
            "\n",
            "           0       0.50      0.96      0.66     18099\n",
            "           1       0.53      0.04      0.08     18099\n",
            "\n",
            "    accuracy                           0.50     36198\n",
            "   macro avg       0.52      0.50      0.37     36198\n",
            "weighted avg       0.52      0.50      0.37     36198\n",
            "\n"
          ]
        }
      ]
    },
    {
      "cell_type": "code",
      "source": [
        "from prettytable import PrettyTable\n",
        "\n",
        "x = PrettyTable()\n",
        "x.field_names = ['Model Name', 'Accuracy']\n",
        "x.add_row([\"Random Forest\", rf_acc])\n",
        "x.add_row([\"Logisitc\", log_acc])\n",
        "x.add_row([\"Naive Bayes\", NB_acc])\n",
        "x.add_row([\"KNN\", KNN_acc])\n",
        "x.add_row([\"DT\", tree_acc])\n",
        "x.add_row([\"ANN\", best_accuracy])\n",
        "print(x)"
      ],
      "metadata": {
        "id": "LPl30SLAkGfq",
        "colab": {
          "base_uri": "https://localhost:8080/"
        },
        "outputId": "c1552368-985d-4a32-de7e-0e51e57a7d98"
      },
      "execution_count": null,
      "outputs": [
        {
          "output_type": "stream",
          "name": "stdout",
          "text": [
            "+---------------+--------------------+\n",
            "|   Model Name  |      Accuracy      |\n",
            "+---------------+--------------------+\n",
            "| Random Forest | 0.8634454942262003 |\n",
            "|    Logisitc   | 0.5123211227139621 |\n",
            "|  Naive Bayes  | 0.5072655947842423 |\n",
            "|      KNN      | 0.8763743853251561 |\n",
            "|       DT      | 0.8763743853251561 |\n",
            "|      ANN      | 0.510572874546051  |\n",
            "+---------------+--------------------+\n"
          ]
        }
      ]
    }
  ]
}